{
 "cells": [
  {
   "cell_type": "code",
   "execution_count": 60,
   "id": "173b98af",
   "metadata": {},
   "outputs": [
    {
     "name": "stdout",
     "output_type": "stream",
     "text": [
      "5\n"
     ]
    }
   ],
   "source": [
    "def solution(n, lost, reserve):\n",
    "    student={}\n",
    "    answer = 0\n",
    "    for i in range(1,n+1) :\n",
    "        student[i]=student.get(i,0)+1# 초기화 모든학생 1\n",
    "    for j in reserve: # 체육복 여유분 추가\n",
    "        student[j] =student.get(j) +1\n",
    "    for k in lost :# 체육복 분실 학생\n",
    "        student[k] =student.get(k) -1    \n",
    "    #print(student)\n",
    "    for key, value in student.items() :# 체육복 빌리기\n",
    "        #print(key,value)\n",
    "        #print(student.get(key-1))\n",
    "        if key != 1 and key != n:\n",
    "            #print(\"key\",key)\n",
    "            if (value == 0) and student[key-1]==2 : # 앞번호에서 빌리기\n",
    "                #print(\"앞번호\")\n",
    "                student[key] = 1\n",
    "                #print(key, student[key])\n",
    "                student[key-1] = 1\n",
    "            \n",
    "            elif(value ==0) and student[key+1]==2 : #뒷번호에서 빌리기\n",
    "                #print(\"뒷번호\")\n",
    "                student[key] = 1\n",
    "                #print(student[key])\n",
    "                student[key+1] = 1\n",
    "        elif key == 1 :\n",
    "            if(value ==0) and student[key+1]==2 : #뒷번호에서 빌리기\n",
    "                #print(\"뒷번호\")\n",
    "                student[key] = 1\n",
    "                student[key+1] = 1\n",
    "        else :\n",
    "            if (value ==0) and student[key-1]==2 : # 앞번호에서 빌리기\n",
    "                #print(\"앞번호\")\n",
    "                student[key] = 1\n",
    "                student[key-1] = 1\n",
    "        \n",
    "        \n",
    "        if student[key] > 0 :\n",
    "                #print(value)\n",
    "                answer +=1\n",
    "\n",
    "            \n",
    "    return answer\n",
    "\n",
    "n=5\n",
    "lost=[2, 4]\n",
    "reserve=[1, 3, 5]\n",
    "print(solution(n,lost,reserve))"
   ]
  },
  {
   "cell_type": "code",
   "execution_count": 63,
   "id": "edbebfc0",
   "metadata": {},
   "outputs": [
    {
     "name": "stdout",
     "output_type": "stream",
     "text": [
      "[1, 3, 5]\n",
      "[2, 4]\n",
      "5\n"
     ]
    }
   ],
   "source": [
    "def solution(n, lost, reserve):\n",
    "    _reserve = [r for r in reserve if r not in lost]\n",
    "    print(_reserve)\n",
    "    _lost = [l for l in lost if l not in reserve]\n",
    "    print(_lost)\n",
    "    for r in _reserve:\n",
    "        f = r - 1\n",
    "        b = r + 1\n",
    "        if f in _lost:\n",
    "            _lost.remove(f)\n",
    "        elif b in _lost:\n",
    "            _lost.remove(b)\n",
    "    return n - len(_lost)\n",
    "n=5\n",
    "lost=[2, 4]\n",
    "reserve=[1, 3, 5]\n",
    "print(solution(n,lost,reserve))"
   ]
  },
  {
   "cell_type": "code",
   "execution_count": null,
   "id": "e3788d60",
   "metadata": {},
   "outputs": [],
   "source": []
  }
 ],
 "metadata": {
  "kernelspec": {
   "display_name": "Python 3",
   "language": "python",
   "name": "python3"
  },
  "language_info": {
   "codemirror_mode": {
    "name": "ipython",
    "version": 3
   },
   "file_extension": ".py",
   "mimetype": "text/x-python",
   "name": "python",
   "nbconvert_exporter": "python",
   "pygments_lexer": "ipython3",
   "version": "3.8.8"
  }
 },
 "nbformat": 4,
 "nbformat_minor": 5
}
