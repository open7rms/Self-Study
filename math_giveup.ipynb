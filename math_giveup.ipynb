{
 "cells": [
  {
   "cell_type": "code",
   "execution_count": 114,
   "id": "b42217d9",
   "metadata": {},
   "outputs": [
    {
     "name": "stdout",
     "output_type": "stream",
     "text": [
      "[1, 2, 3]\n"
     ]
    }
   ],
   "source": [
    "def solution(answers):\n",
    "    soo1p=[1,2,3,4,5] # items 5\n",
    "    soo2p=[2, 1, 2, 3, 2, 4, 2, 5] #items 8\n",
    "    soo3p=[3, 3, 1, 1, 2, 2, 4, 4, 5, 5] #items 10\n",
    "    scount=[0,0,0]\n",
    "    answer=[]\n",
    "    for i in range(len(answers)):\n",
    "        if answers[i]==soo1p[i%5]:\n",
    "            scount[0] +=1\n",
    "        if answers[i]==soo2p[i%8]:\n",
    "            scount[1] +=1\n",
    "        if answers[i]==soo3p[i%10]:\n",
    "            scount[2] +=1\n",
    "    \n",
    "    maxscore=max(scount)\n",
    "    #sorted_result=sorted(scount,key=scount.get,reverse = 1 )\n",
    "    \n",
    "    for j in range(3):\n",
    "        if maxscore == scount[j]:\n",
    "            answer.append(j+1)\n",
    "        \n",
    "        \n",
    "    return (answer)\n",
    "\n",
    "answers=[1,3,2,4,2]\n",
    "\n",
    "print(solution(answers))"
   ]
  },
  {
   "cell_type": "code",
   "execution_count": null,
   "id": "d55ebd81",
   "metadata": {},
   "outputs": [],
   "source": []
  }
 ],
 "metadata": {
  "kernelspec": {
   "display_name": "Python 3",
   "language": "python",
   "name": "python3"
  },
  "language_info": {
   "codemirror_mode": {
    "name": "ipython",
    "version": 3
   },
   "file_extension": ".py",
   "mimetype": "text/x-python",
   "name": "python",
   "nbconvert_exporter": "python",
   "pygments_lexer": "ipython3",
   "version": "3.8.8"
  }
 },
 "nbformat": 4,
 "nbformat_minor": 5
}
