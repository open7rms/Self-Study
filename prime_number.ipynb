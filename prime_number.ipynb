{
 "cells": [
  {
   "cell_type": "code",
   "execution_count": 24,
   "id": "e8dd2348",
   "metadata": {},
   "outputs": [
    {
     "name": "stdout",
     "output_type": "stream",
     "text": [
      "[10, 9, 7, 14, 12, 11, 15, 13, 12, 17]\n",
      "7\n",
      "11\n",
      "13\n",
      "17\n",
      "4\n"
     ]
    }
   ],
   "source": [
    "from itertools import combinations\n",
    "def solution(nums) :\n",
    "    new =[]\n",
    "    answer=0\n",
    "    for i in combinations(nums,3):\n",
    "        new.append(sum(i))\n",
    "    print(new)\n",
    "    new.sort()\n",
    "    \n",
    "    for j in new:\n",
    "        flag = False\n",
    "        for k in range(2,j) :\n",
    "            \n",
    "            if j%k==0:\n",
    "                flag = True\n",
    "                break\n",
    "        if flag :\n",
    "            pass\n",
    "        else :\n",
    "            \n",
    "            answer+=1\n",
    "            \n",
    "    return answer\n",
    "nums=[1,2,7,6,4]\n",
    "print(solution(nums))\n",
    "\n",
    "\n",
    "#def solution(nums):\n",
    "#    from itertools import combinations as cb\n",
    "#    answer = 0\n",
    "#    for a in cb(nums, 3):\n",
    "#        cand = sum(a)\n",
    "#        for j in range(2, cand):\n",
    "#            if cand%j==0:\n",
    "#                break\n",
    "#        else:\n",
    "#            answer += 1\n",
    "#    return answer"
   ]
  },
  {
   "cell_type": "code",
   "execution_count": null,
   "id": "3fc937ec",
   "metadata": {},
   "outputs": [],
   "source": []
  }
 ],
 "metadata": {
  "kernelspec": {
   "display_name": "Python 3",
   "language": "python",
   "name": "python3"
  },
  "language_info": {
   "codemirror_mode": {
    "name": "ipython",
    "version": 3
   },
   "file_extension": ".py",
   "mimetype": "text/x-python",
   "name": "python",
   "nbconvert_exporter": "python",
   "pygments_lexer": "ipython3",
   "version": "3.8.8"
  }
 },
 "nbformat": 4,
 "nbformat_minor": 5
}
