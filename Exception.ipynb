{
 "cells": [
  {
   "cell_type": "code",
   "execution_count": 2,
   "id": "91f52a4d",
   "metadata": {},
   "outputs": [
    {
     "name": "stdout",
     "output_type": "stream",
     "text": [
      "Enter\n",
      "Not divided by 0\n",
      "1 10\n",
      "2 5\n",
      "3 3\n",
      "4 2\n",
      "5 2\n",
      "Index\n",
      "6 1\n",
      "Index\n",
      "7 1\n",
      "Index\n",
      "8 1\n",
      "Index\n",
      "9 1\n",
      "Index\n"
     ]
    }
   ],
   "source": [
    "a=[1,2,3,4,5]\n",
    "for i in range(10):\n",
    "    try:\n",
    "        print(i,10//i)\n",
    "        a[i]\n",
    "    except ZeroDivisionError:\n",
    "        print(\"Enter\")\n",
    "        print(\"Not divided by 0\")\n",
    "    except IndexError : \n",
    "        print(\"Index\")"
   ]
  },
  {
   "cell_type": "code",
   "execution_count": 3,
   "id": "9398060d",
   "metadata": {},
   "outputs": [
    {
     "name": "stdout",
     "output_type": "stream",
     "text": [
      "Not divided by 0\n",
      "10\n",
      "5\n",
      "3\n",
      "2\n",
      "2\n",
      "1\n",
      "1\n",
      "1\n",
      "1\n"
     ]
    }
   ],
   "source": [
    "for i in range(10) :\n",
    "    try :\n",
    "        result =10//i\n",
    "    except ZeroDivisionError :\n",
    "        print(\"Not divided by 0\")\n",
    "    else : \n",
    "        print(10//i)"
   ]
  },
  {
   "cell_type": "code",
   "execution_count": 4,
   "id": "5d529a0c",
   "metadata": {},
   "outputs": [
    {
     "name": "stdout",
     "output_type": "stream",
     "text": [
      "Not dividied by 0\n",
      "0 --------- 1\n",
      "10\n",
      "1 --------- 10\n",
      "5\n",
      "2 --------- 5\n",
      "3\n",
      "3 --------- 3\n",
      "2\n",
      "4 --------- 2\n",
      "2\n",
      "5 --------- 2\n",
      "1\n",
      "6 --------- 1\n",
      "1\n",
      "7 --------- 1\n",
      "1\n",
      "8 --------- 1\n",
      "1\n",
      "9 --------- 1\n"
     ]
    }
   ],
   "source": [
    "for i in range(0,10) :\n",
    "    try : \n",
    "        result= 10//i\n",
    "    except ZeroDivisionError :\n",
    "        print(\"Not dividied by 0\")\n",
    "        \n",
    "    else : \n",
    "        print(10//i)\n",
    "    finally :\n",
    "        print(i,\"---------\",result)"
   ]
  },
  {
   "cell_type": "code",
   "execution_count": 6,
   "id": "384349c0",
   "metadata": {},
   "outputs": [
    {
     "name": "stdout",
     "output_type": "stream",
     "text": [
      "변환할 정수 값을 입력해주세요0\n",
      "정수값으로 변환된 숫자 - 0\n",
      "변환할 정수 값을 입력해주세요a\n"
     ]
    },
    {
     "ename": "ValueError",
     "evalue": "숫자값을 입력하지 않으셨습니다.",
     "output_type": "error",
     "traceback": [
      "\u001b[1;31m---------------------------------------------------------------------------\u001b[0m",
      "\u001b[1;31mValueError\u001b[0m                                Traceback (most recent call last)",
      "\u001b[1;32m<ipython-input-6-39d25c116e14>\u001b[0m in \u001b[0;36m<module>\u001b[1;34m\u001b[0m\n\u001b[0;32m      3\u001b[0m     \u001b[1;32mfor\u001b[0m \u001b[0mdigit\u001b[0m \u001b[1;32min\u001b[0m \u001b[0mvalue\u001b[0m \u001b[1;33m:\u001b[0m\u001b[1;33m\u001b[0m\u001b[1;33m\u001b[0m\u001b[0m\n\u001b[0;32m      4\u001b[0m         \u001b[1;32mif\u001b[0m \u001b[0mdigit\u001b[0m \u001b[1;32mnot\u001b[0m \u001b[1;32min\u001b[0m \u001b[1;34m\"0123456789\"\u001b[0m \u001b[1;33m:\u001b[0m\u001b[1;33m\u001b[0m\u001b[1;33m\u001b[0m\u001b[0m\n\u001b[1;32m----> 5\u001b[1;33m             \u001b[1;32mraise\u001b[0m \u001b[0mValueError\u001b[0m\u001b[1;33m(\u001b[0m\u001b[1;34m\"숫자값을 입력하지 않으셨습니다.\"\u001b[0m\u001b[1;33m)\u001b[0m\u001b[1;33m\u001b[0m\u001b[1;33m\u001b[0m\u001b[0m\n\u001b[0m\u001b[0;32m      6\u001b[0m     \u001b[0mprint\u001b[0m\u001b[1;33m(\u001b[0m\u001b[1;34m\"정수값으로 변환된 숫자 -\"\u001b[0m\u001b[1;33m,\u001b[0m\u001b[0mint\u001b[0m\u001b[1;33m(\u001b[0m\u001b[0mvalue\u001b[0m\u001b[1;33m)\u001b[0m\u001b[1;33m)\u001b[0m\u001b[1;33m\u001b[0m\u001b[1;33m\u001b[0m\u001b[0m\n",
      "\u001b[1;31mValueError\u001b[0m: 숫자값을 입력하지 않으셨습니다."
     ]
    }
   ],
   "source": [
    "while True : \n",
    "    value =input(\"변환할 정수 값을 입력해주세요\")\n",
    "    for digit in value : \n",
    "        if digit not in \"0123456789\" :\n",
    "            raise ValueError(\"숫자값을 입력하지 않으셨습니다.\")\n",
    "    print(\"정수값으로 변환된 숫자 -\",int(value))"
   ]
  },
  {
   "cell_type": "code",
   "execution_count": 7,
   "id": "4fc18fef",
   "metadata": {},
   "outputs": [
    {
     "ename": "AssertionError",
     "evalue": "",
     "output_type": "error",
     "traceback": [
      "\u001b[1;31m---------------------------------------------------------------------------\u001b[0m",
      "\u001b[1;31mAssertionError\u001b[0m                            Traceback (most recent call last)",
      "\u001b[1;32m<ipython-input-7-9370c3a3f7e1>\u001b[0m in \u001b[0;36m<module>\u001b[1;34m\u001b[0m\n\u001b[0;32m      2\u001b[0m     \u001b[1;32massert\u001b[0m \u001b[0misinstance\u001b[0m\u001b[1;33m(\u001b[0m\u001b[0mdecimal_number\u001b[0m\u001b[1;33m,\u001b[0m\u001b[0mint\u001b[0m\u001b[1;33m)\u001b[0m\u001b[1;33m\u001b[0m\u001b[1;33m\u001b[0m\u001b[0m\n\u001b[0;32m      3\u001b[0m     \u001b[1;32mreturn\u001b[0m \u001b[0mbin\u001b[0m\u001b[1;33m(\u001b[0m\u001b[0mdecimal_number\u001b[0m\u001b[1;33m)\u001b[0m\u001b[1;33m\u001b[0m\u001b[1;33m\u001b[0m\u001b[0m\n\u001b[1;32m----> 4\u001b[1;33m \u001b[0mprint\u001b[0m\u001b[1;33m(\u001b[0m\u001b[0mget_binary_number\u001b[0m\u001b[1;33m(\u001b[0m\u001b[1;36m10.0\u001b[0m\u001b[1;33m)\u001b[0m\u001b[1;33m)\u001b[0m\u001b[1;33m\u001b[0m\u001b[1;33m\u001b[0m\u001b[0m\n\u001b[0m",
      "\u001b[1;32m<ipython-input-7-9370c3a3f7e1>\u001b[0m in \u001b[0;36mget_binary_number\u001b[1;34m(decimal_number)\u001b[0m\n\u001b[0;32m      1\u001b[0m \u001b[1;32mdef\u001b[0m \u001b[0mget_binary_number\u001b[0m\u001b[1;33m(\u001b[0m\u001b[0mdecimal_number\u001b[0m \u001b[1;33m:\u001b[0m \u001b[0mint\u001b[0m\u001b[1;33m)\u001b[0m \u001b[1;33m:\u001b[0m\u001b[1;33m\u001b[0m\u001b[1;33m\u001b[0m\u001b[0m\n\u001b[1;32m----> 2\u001b[1;33m     \u001b[1;32massert\u001b[0m \u001b[0misinstance\u001b[0m\u001b[1;33m(\u001b[0m\u001b[0mdecimal_number\u001b[0m\u001b[1;33m,\u001b[0m\u001b[0mint\u001b[0m\u001b[1;33m)\u001b[0m\u001b[1;33m\u001b[0m\u001b[1;33m\u001b[0m\u001b[0m\n\u001b[0m\u001b[0;32m      3\u001b[0m     \u001b[1;32mreturn\u001b[0m \u001b[0mbin\u001b[0m\u001b[1;33m(\u001b[0m\u001b[0mdecimal_number\u001b[0m\u001b[1;33m)\u001b[0m\u001b[1;33m\u001b[0m\u001b[1;33m\u001b[0m\u001b[0m\n\u001b[0;32m      4\u001b[0m \u001b[0mprint\u001b[0m\u001b[1;33m(\u001b[0m\u001b[0mget_binary_number\u001b[0m\u001b[1;33m(\u001b[0m\u001b[1;36m10.0\u001b[0m\u001b[1;33m)\u001b[0m\u001b[1;33m)\u001b[0m\u001b[1;33m\u001b[0m\u001b[1;33m\u001b[0m\u001b[0m\n",
      "\u001b[1;31mAssertionError\u001b[0m: "
     ]
    }
   ],
   "source": [
    "def get_binary_number(decimal_number : int) :\n",
    "    assert isinstance(decimal_number,int)\n",
    "    return bin(decimal_number)\n",
    "print(get_binary_number(10.0))"
   ]
  },
  {
   "cell_type": "code",
   "execution_count": 13,
   "id": "f686d311",
   "metadata": {},
   "outputs": [
    {
     "name": "stdout",
     "output_type": "stream",
     "text": [
      "I have a dream\n",
      "Dream Dream Dream\n"
     ]
    }
   ],
   "source": [
    "f = open(\"i_have_a_dream.txt\",\"r\")\n",
    "contents=f.read()\n",
    "print(contents)\n",
    "f.close()"
   ]
  },
  {
   "cell_type": "code",
   "execution_count": 10,
   "id": "12c48ea9",
   "metadata": {},
   "outputs": [],
   "source": [
    "with open(\"i_have_a_dream.txt\", \"r\") as f:\n",
    "    contents=f.read()"
   ]
  },
  {
   "cell_type": "code",
   "execution_count": 12,
   "id": "d589d3f1",
   "metadata": {},
   "outputs": [
    {
     "data": {
      "text/plain": [
       "'Dream Dream Dream'"
      ]
     },
     "execution_count": 12,
     "metadata": {},
     "output_type": "execute_result"
    }
   ],
   "source": [
    "with open(\"i_have_a_dream.txt\",\"r\") as f:\n",
    "    contents_list = f.readlines()\n",
    "contents_list[1]"
   ]
  },
  {
   "cell_type": "code",
   "execution_count": 14,
   "id": "a07184d9",
   "metadata": {},
   "outputs": [
    {
     "name": "stdout",
     "output_type": "stream",
     "text": [
      "Total number of characters :  32\n",
      "Total number of words :  6\n",
      "Total number of lines :  2\n"
     ]
    }
   ],
   "source": [
    "with open(\"i_have_a_dream.txt\",\"r\") as my_file:\n",
    "    contents = my_file.read()\n",
    "    word_list=contents.split(\" \")\n",
    "    line_list= contents.split(\"\\n\")\n",
    "    \n",
    "print(\"Total number of characters : \", len(contents))\n",
    "print(\"Total number of words : \", len(word_list))\n",
    "print(\"Total number of lines : \", len(line_list))"
   ]
  },
  {
   "cell_type": "code",
   "execution_count": 15,
   "id": "c7757a59",
   "metadata": {},
   "outputs": [],
   "source": [
    "f=open(\"cont_log.txt\",mode=\"w\", encoding=\"utf8\")\n",
    "for i in range(1,11) :\n",
    "    data = \"{0}번째 줄입니다.\\n\".format(i)\n",
    "    f.write(data)\n",
    "f.close()"
   ]
  },
  {
   "cell_type": "code",
   "execution_count": 16,
   "id": "7ef5ea23",
   "metadata": {},
   "outputs": [],
   "source": [
    "with open(\"count_log.txt\", mode=\"a\", encoding=\"utf8\") as f :\n",
    "    for i  in range(11,21):\n",
    "        data = \"{0}번째 줄입니다.\\n\".format(i)\n",
    "        f.write(data)"
   ]
  },
  {
   "cell_type": "code",
   "execution_count": 17,
   "id": "9da55653",
   "metadata": {},
   "outputs": [],
   "source": [
    "import os\n",
    "os.mkdir(\"abc\")"
   ]
  },
  {
   "cell_type": "code",
   "execution_count": 18,
   "id": "01c0fffb",
   "metadata": {},
   "outputs": [
    {
     "name": "stdout",
     "output_type": "stream",
     "text": [
      "Already created\n"
     ]
    }
   ],
   "source": [
    "try : \n",
    "    os.mkdir(\"abc\")\n",
    "except FileExistsError as e:\n",
    "    print(\"Already created\")"
   ]
  },
  {
   "cell_type": "code",
   "execution_count": 20,
   "id": "1133d7eb",
   "metadata": {},
   "outputs": [
    {
     "data": {
      "text/plain": [
       "True"
      ]
     },
     "execution_count": 20,
     "metadata": {},
     "output_type": "execute_result"
    }
   ],
   "source": [
    "os.path.exists(\"abc\")"
   ]
  },
  {
   "cell_type": "code",
   "execution_count": 21,
   "id": "c9cfd668",
   "metadata": {},
   "outputs": [
    {
     "data": {
      "text/plain": [
       "'abc\\\\sungchul.txt'"
      ]
     },
     "execution_count": 21,
     "metadata": {},
     "output_type": "execute_result"
    }
   ],
   "source": [
    "import shutil\n",
    "\n",
    "source=\"i_have_a_dream.txt\"\n",
    "dest = os.path.join(\"abc\",\"sungchul.txt\")\n",
    "shutil.copy(source, dest)"
   ]
  },
  {
   "cell_type": "code",
   "execution_count": 22,
   "id": "31ef494a",
   "metadata": {},
   "outputs": [],
   "source": [
    "import pathlib"
   ]
  },
  {
   "cell_type": "code",
   "execution_count": 25,
   "id": "e2c12655",
   "metadata": {},
   "outputs": [],
   "source": [
    "cwd=pathlib.Path.cwd()"
   ]
  },
  {
   "cell_type": "code",
   "execution_count": 26,
   "id": "ec72d8c7",
   "metadata": {},
   "outputs": [
    {
     "data": {
      "text/plain": [
       "WindowsPath('C:/Users/open7/Documents/2021/Study/Naver_connect')"
      ]
     },
     "execution_count": 26,
     "metadata": {},
     "output_type": "execute_result"
    }
   ],
   "source": [
    "cwd.parent"
   ]
  },
  {
   "cell_type": "code",
   "execution_count": 27,
   "id": "e7a469c7",
   "metadata": {},
   "outputs": [],
   "source": [
    "import os\n",
    "if not os.path.exists(\"log\") :\n",
    "    os.mkdir(\"log\")\n",
    "\n",
    "TARGET_FILE_PATH = os.path.join(\"log\",\"count_log.txt\")\n",
    "if not os.path.exists(TARGET_FILE_PATH):\n",
    "    f=open(\"log/count_log.txt\",\"w\", encoding=\"utf8\")\n",
    "    f.write(\"기록이 시작됩니다.\\n\")\n",
    "    f.close()\n",
    "    "
   ]
  },
  {
   "cell_type": "code",
   "execution_count": 28,
   "id": "7d9db70c",
   "metadata": {},
   "outputs": [],
   "source": [
    "with open(TARGET_FILE_PATH, \"a\", encoding=\"utf8\") as f:\n",
    "    import random, datetime\n",
    "    for i in range(1,11) :\n",
    "        stamp=str(datetime.datetime.now())\n",
    "        value = random.random()*1000000\n",
    "        log_line= stamp +\"\\t\"+ str(value)+\"값이 생성되었습니다.\\n\"\n",
    "        f.write(log_line)"
   ]
  },
  {
   "cell_type": "markdown",
   "id": "d9bcdc29",
   "metadata": {},
   "source": [
    "# Pickle"
   ]
  },
  {
   "cell_type": "code",
   "execution_count": 30,
   "id": "13b7cd17",
   "metadata": {},
   "outputs": [],
   "source": [
    "import pickle\n",
    "f = open(\"list.pickle\",\"wb\")\n",
    "test = [1,2,3,4,5]\n",
    "pickle.dump(test,f)\n",
    "f.close()"
   ]
  },
  {
   "cell_type": "code",
   "execution_count": 31,
   "id": "5d0855d1",
   "metadata": {},
   "outputs": [
    {
     "data": {
      "text/plain": [
       "[1, 2, 3, 4, 5]"
      ]
     },
     "execution_count": 31,
     "metadata": {},
     "output_type": "execute_result"
    }
   ],
   "source": [
    "test"
   ]
  },
  {
   "cell_type": "code",
   "execution_count": 32,
   "id": "8eaa455a",
   "metadata": {},
   "outputs": [
    {
     "data": {
      "text/plain": [
       "0"
      ]
     },
     "execution_count": 32,
     "metadata": {},
     "output_type": "execute_result"
    }
   ],
   "source": [
    "test_pickle=0\n",
    "test_pickle"
   ]
  },
  {
   "cell_type": "code",
   "execution_count": 33,
   "id": "031c8fcb",
   "metadata": {},
   "outputs": [],
   "source": [
    "f=open(\"list.pickle\",\"rb\")\n",
    "test_pickle = pickle.load(f)\n",
    "test_pickle\n",
    "f.close()"
   ]
  },
  {
   "cell_type": "code",
   "execution_count": 34,
   "id": "cb2a51f7",
   "metadata": {},
   "outputs": [
    {
     "data": {
      "text/plain": [
       "[1, 2, 3, 4, 5]"
      ]
     },
     "execution_count": 34,
     "metadata": {},
     "output_type": "execute_result"
    }
   ],
   "source": [
    "test_pickle"
   ]
  },
  {
   "cell_type": "code",
   "execution_count": 41,
   "id": "9547f897",
   "metadata": {},
   "outputs": [
    {
     "data": {
      "text/plain": [
       "25"
      ]
     },
     "execution_count": 41,
     "metadata": {},
     "output_type": "execute_result"
    }
   ],
   "source": [
    "import pickle\n",
    "\n",
    "class Multiply(object) :\n",
    "    def __init__(self, multiplier) :\n",
    "        self.multiplier = multiplier\n",
    "        \n",
    "    def multiply(self, number):\n",
    "        return number*self.multiplier\n",
    "    \n",
    "\n",
    "muliply= Multiply(5)\n",
    "muliply.multiply(10)\n",
    "\n",
    "f=open(\"multiply_object.pickle\",\"wb\")\n",
    "pickle.dump(muliply,f)\n",
    "f.close\n",
    "\n",
    "f=open(\"multiply_object.pickle\",\"rb\")\n",
    "multiply_pickle = pickle.load(f)\n",
    "multiply_pickle.multiply(5)"
   ]
  },
  {
   "cell_type": "markdown",
   "id": "23f6abd8",
   "metadata": {},
   "source": [
    "# Logging"
   ]
  },
  {
   "cell_type": "code",
   "execution_count": 49,
   "id": "e70bfebb",
   "metadata": {},
   "outputs": [
    {
     "name": "stderr",
     "output_type": "stream",
     "text": [
      "DEBUG:main:틀렸어!!\n",
      "INFO:main:확인해!!\n",
      "WARNING:main:조심해\n",
      "ERROR:main:에러났어\n",
      "CRITICAL:main:망했다\n"
     ]
    }
   ],
   "source": [
    "import logging\n",
    "\n",
    "if __name__=='__main__' :\n",
    "    logger = logging.getLogger(\"main\")\n",
    "    logging.basicConfig(level= logging.DEBUG)\n",
    "    logger.setLevel(logging.DEBUG)\n",
    "    \n",
    "    steam_handler =logging.FileHandler(\"my.log\", mode=\"w\", encoding=\"utf8\")\n",
    "    logger.addHandler(steam_handler)\n",
    "    \n",
    "    logger.debug(\"틀렸어!!\")\n",
    "    logger.info(\"확인해!!\")\n",
    "    logger.warning(\"조심해\")\n",
    "    logger.error(\"에러났어\")\n",
    "    logger.critical(\"망했다\")\n",
    "    "
   ]
  },
  {
   "cell_type": "code",
   "execution_count": null,
   "id": "248e7c7e",
   "metadata": {},
   "outputs": [],
   "source": []
  }
 ],
 "metadata": {
  "kernelspec": {
   "display_name": "Python 3",
   "language": "python",
   "name": "python3"
  },
  "language_info": {
   "codemirror_mode": {
    "name": "ipython",
    "version": 3
   },
   "file_extension": ".py",
   "mimetype": "text/x-python",
   "name": "python",
   "nbconvert_exporter": "python",
   "pygments_lexer": "ipython3",
   "version": "3.8.8"
  }
 },
 "nbformat": 4,
 "nbformat_minor": 5
}
