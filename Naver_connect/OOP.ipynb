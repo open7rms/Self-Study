{
 "cells": [
  {
   "cell_type": "markdown",
   "id": "b462c42c",
   "metadata": {},
   "source": [
    "# class declaration "
   ]
  },
  {
   "cell_type": "code",
   "execution_count": null,
   "id": "0aea9fcd",
   "metadata": {},
   "outputs": [],
   "source": [
    "class SoccerPlayer(object):\n",
    "    def __init__(self, name : str, position : str, back_number : int) :\n",
    "        self.name=name\n",
    "        self.position=position\n",
    "        self.back_number=back_number\n",
    "\n",
    "    def __add__(self,other):\n",
    "        return self.name + other.name\n",
    "        \n",
    "abc=SoccerPlayer(\"son\",\"FW\", 7)\n",
    "park=SoccerPlayer(\"park\",\"WF\",13)\n",
    "\n"
   ]
  },
  {
   "cell_type": "code",
   "execution_count": null,
   "id": "2e296a30",
   "metadata": {},
   "outputs": [],
   "source": [
    "abc is park\n"
   ]
  },
  {
   "cell_type": "code",
   "execution_count": null,
   "id": "1e7541d1",
   "metadata": {},
   "outputs": [],
   "source": [
    "class SoccerPlayer(object) : \n",
    "    def __init__(self,name,position,back_number):\n",
    "        self.name=name\n",
    "        self.position=position\n",
    "        self.back_number=back_number\n",
    "    \n",
    "    def change_back_number(self,new_number) :\n",
    "        print(\"선수의 등번호를 변경합니다. : From %d to %d\" % (self.back_number,new_number))\n",
    "        self.back_number=new_number\n",
    "        \n",
    "    def __str__(self):\n",
    "        return \"Hello, My name is %s. My back number is %d\" %  (self.name,self.back_number)\n",
    "    "
   ]
  },
  {
   "cell_type": "code",
   "execution_count": null,
   "id": "bceb5015",
   "metadata": {},
   "outputs": [],
   "source": [
    "choi=SoccerPlayer(\"jinhyun\",\"mf\", 10)\n",
    "print(choi)\n"
   ]
  },
  {
   "cell_type": "code",
   "execution_count": null,
   "id": "e67b28f8",
   "metadata": {},
   "outputs": [],
   "source": [
    "choi.change_back_number(7)\n",
    "print(choi)"
   ]
  },
  {
   "cell_type": "markdown",
   "id": "38c1f031",
   "metadata": {},
   "source": [
    "# Note book example"
   ]
  },
  {
   "cell_type": "code",
   "execution_count": 1,
   "id": "ae9b1492",
   "metadata": {},
   "outputs": [],
   "source": [
    "class Note(object) :\n",
    "    def __init__(self,content=None):# class 초기화\n",
    "        self.content=content #def 밑에는 그 method가 행할 행동을 정의한다.\n",
    "    \n",
    "    def write_content(self,content):\n",
    "        self.content=content\n",
    "    \n",
    "    def remove_all(self):\n",
    "        self.content= \"\"\n",
    "    \n",
    "    def __add__(self, other):\n",
    "        return self.content + other.content\n",
    "    \n",
    "    def __str__(self) : #print cotnents\n",
    "       \n",
    "\n",
    "        return self.content\n",
    "    "
   ]
  },
  {
   "cell_type": "code",
   "execution_count": 81,
   "id": "91938566",
   "metadata": {},
   "outputs": [
    {
     "ename": "SyntaxError",
     "evalue": "invalid syntax (<ipython-input-81-d1b90fb681df>, line 10)",
     "output_type": "error",
     "traceback": [
      "\u001b[1;36m  File \u001b[1;32m\"<ipython-input-81-d1b90fb681df>\"\u001b[1;36m, line \u001b[1;32m10\u001b[0m\n\u001b[1;33m    self.notes.={1:note}\u001b[0m\n\u001b[1;37m               ^\u001b[0m\n\u001b[1;31mSyntaxError\u001b[0m\u001b[1;31m:\u001b[0m invalid syntax\n"
     ]
    }
   ],
   "source": [
    "class NoteBook(object) : \n",
    "    def __init__(self, title) :\n",
    "        self.title=title\n",
    "        self.page_number = 1\n",
    "        self.notes = dic() #dict로 선언\n",
    "        \n",
    "    def add_note(self,note,page = 0):\n",
    "        if self.page_number<300:\n",
    "            if page == 0 :\n",
    "                self.notes.={1:note}\n",
    "            else :\n",
    "                #self.notes.updates({page:note})\n",
    "                 self.notes = {page:note}         \n",
    "        else : \n",
    "            print(\"Page 가 모두 채워져 있습니다.\")\n",
    "   \n",
    "    def remove_note(self, page_number) :\n",
    "        if page_number in self.notes.keys():\n",
    "            #self.page_number -=1\n",
    "            return self.notes.pop(page_number)\n",
    "        else : \n",
    "            print(\"해당 페이지는 존재하지 않습니다.\")\n",
    "    def get_number_of_pages(self):\n",
    "        return len(self.notes.keys())\n",
    "    \n",
    "    def notes (self, page):\n",
    "        if page in self.notes.keys():\n",
    "            return print(\"노트에 적힌 내용입니다 :\",self.notes.values())\n",
    "        else : \n",
    "            print(\"해당 페이지는 존재하지 않습니다.\")"
   ]
  },
  {
   "cell_type": "code",
   "execution_count": 3,
   "id": "10f5b67a",
   "metadata": {},
   "outputs": [
    {
     "data": {
      "text/plain": [
       "<__main__.NoteBook at 0x230591536a0>"
      ]
     },
     "execution_count": 3,
     "metadata": {},
     "output_type": "execute_result"
    }
   ],
   "source": [
    "my_notebook=NoteBook(\"팀랩 강의노트\")\n",
    "my_notebook"
   ]
  },
  {
   "cell_type": "code",
   "execution_count": 48,
   "id": "01807a62",
   "metadata": {},
   "outputs": [
    {
     "data": {
      "text/plain": [
       "'팀랩 강의노트'"
      ]
     },
     "execution_count": 48,
     "metadata": {},
     "output_type": "execute_result"
    }
   ],
   "source": [
    "my_notebook.title"
   ]
  },
  {
   "cell_type": "code",
   "execution_count": 5,
   "id": "4a1efbfd",
   "metadata": {},
   "outputs": [
    {
     "name": "stdout",
     "output_type": "stream",
     "text": [
      "아 수업 하기 싫다\n"
     ]
    }
   ],
   "source": [
    "new_note=Note(\"아 수업 하기 싫다\")\n",
    "print(new_note)"
   ]
  },
  {
   "cell_type": "code",
   "execution_count": 6,
   "id": "a263b810",
   "metadata": {},
   "outputs": [
    {
     "name": "stdout",
     "output_type": "stream",
     "text": [
      "파이썬 강의\n"
     ]
    }
   ],
   "source": [
    "new_note2=Note(\"파이썬 강의\")\n",
    "print(new_note2)"
   ]
  },
  {
   "cell_type": "code",
   "execution_count": 77,
   "id": "e4888037",
   "metadata": {},
   "outputs": [],
   "source": [
    "my_notebook.add_note(new_note,1)\n"
   ]
  },
  {
   "cell_type": "code",
   "execution_count": 79,
   "id": "cdffdf53",
   "metadata": {},
   "outputs": [],
   "source": [
    "my_notebook.add_note(new_note2,100)"
   ]
  },
  {
   "cell_type": "code",
   "execution_count": 55,
   "id": "ddb9a0eb",
   "metadata": {},
   "outputs": [
    {
     "ename": "TypeError",
     "evalue": "'dict' object is not callable",
     "output_type": "error",
     "traceback": [
      "\u001b[1;31m---------------------------------------------------------------------------\u001b[0m",
      "\u001b[1;31mTypeError\u001b[0m                                 Traceback (most recent call last)",
      "\u001b[1;32m<ipython-input-55-7c7e91a832ab>\u001b[0m in \u001b[0;36m<module>\u001b[1;34m\u001b[0m\n\u001b[1;32m----> 1\u001b[1;33m \u001b[0mprint\u001b[0m\u001b[1;33m(\u001b[0m\u001b[0mmy_notebook\u001b[0m\u001b[1;33m.\u001b[0m\u001b[0mnotes\u001b[0m\u001b[1;33m(\u001b[0m\u001b[1;36m1\u001b[0m\u001b[1;33m)\u001b[0m\u001b[1;33m)\u001b[0m\u001b[1;33m\u001b[0m\u001b[1;33m\u001b[0m\u001b[0m\n\u001b[0m",
      "\u001b[1;31mTypeError\u001b[0m: 'dict' object is not callable"
     ]
    }
   ],
   "source": [
    "print(my_notebook.notes(1))"
   ]
  },
  {
   "cell_type": "code",
   "execution_count": 35,
   "id": "8726e3a7",
   "metadata": {},
   "outputs": [
    {
     "name": "stdout",
     "output_type": "stream",
     "text": [
      "해당 페이지는 존재하지 않습니다.\n",
      "None\n"
     ]
    }
   ],
   "source": [
    "print(my_notebook.remove_note(100))"
   ]
  },
  {
   "cell_type": "code",
   "execution_count": 13,
   "id": "d2bea1e6",
   "metadata": {},
   "outputs": [
    {
     "name": "stdout",
     "output_type": "stream",
     "text": [
      "0\n"
     ]
    }
   ],
   "source": [
    "print(my_notebook.get_number_of_pages())"
   ]
  },
  {
   "cell_type": "code",
   "execution_count": 12,
   "id": "72bb48be",
   "metadata": {},
   "outputs": [
    {
     "data": {
      "text/plain": [
       "<__main__.NoteBook at 0x230591536a0>"
      ]
     },
     "execution_count": 12,
     "metadata": {},
     "output_type": "execute_result"
    }
   ],
   "source": [
    "my_notebook"
   ]
  },
  {
   "cell_type": "code",
   "execution_count": 84,
   "id": "e2387061",
   "metadata": {},
   "outputs": [
    {
     "name": "stdout",
     "output_type": "stream",
     "text": [
      "파이썬 강의\n"
     ]
    }
   ],
   "source": [
    "print(my_notebook.notes.get(100))"
   ]
  },
  {
   "cell_type": "code",
   "execution_count": 82,
   "id": "2345858e",
   "metadata": {},
   "outputs": [
    {
     "name": "stdout",
     "output_type": "stream",
     "text": [
      "23\n"
     ]
    }
   ],
   "source": [
    "print(my_notebook.page_number)"
   ]
  },
  {
   "cell_type": "code",
   "execution_count": 83,
   "id": "9b690bf8",
   "metadata": {},
   "outputs": [
    {
     "name": "stdout",
     "output_type": "stream",
     "text": [
      "100 파이썬 강의\n"
     ]
    }
   ],
   "source": [
    "for k,v in my_notebook.notes.items():\n",
    "  print(k,v)"
   ]
  },
  {
   "cell_type": "markdown",
   "id": "0a8d75f3",
   "metadata": {},
   "source": [
    "# Inheritance \n"
   ]
  },
  {
   "cell_type": "code",
   "execution_count": 7,
   "id": "2f31c3ee",
   "metadata": {},
   "outputs": [],
   "source": [
    "class Person(object):\n",
    "    def __init__(self,name,age):\n",
    "        self.name = name\n",
    "        self.age = age\n",
    "        \n",
    "    def __str__(self):\n",
    "        return \" 저의 이름은 {0} dlqslek. 나이는 {1}입니다.\".format(self.name,self.age)\n",
    "    "
   ]
  },
  {
   "cell_type": "code",
   "execution_count": 8,
   "id": "13a2b117",
   "metadata": {},
   "outputs": [],
   "source": [
    "class Korean(Person):\n",
    "    pass"
   ]
  },
  {
   "cell_type": "code",
   "execution_count": 9,
   "id": "f6e78077",
   "metadata": {},
   "outputs": [
    {
     "name": "stdout",
     "output_type": "stream",
     "text": [
      " 저의 이름은 Sungchul dlqslek. 나이는 35입니다.\n"
     ]
    }
   ],
   "source": [
    "first_korean=Korean(\"Sungchul\",35)\n",
    "print(first_korean)"
   ]
  },
  {
   "cell_type": "code",
   "execution_count": 14,
   "id": "c8a59823",
   "metadata": {},
   "outputs": [],
   "source": [
    "class Person(object):\n",
    "    def __init__(self,name,age,gender):\n",
    "        self.name = name\n",
    "        self.age = age\n",
    "        self.gender= gender\n",
    "        \n",
    "    def about_me(self): #Method  선언\n",
    "            print(\" 저의 이름은 %s 입니다. 나이는 %d입니다.\" % (self.name,self.age))\n",
    "    def __str__(self):\n",
    "        return \" 저의 이름은 {0} dlqslek. 나이는 {1}입니다.\".format(self.name,self.age)\n",
    "    "
   ]
  },
  {
   "cell_type": "code",
   "execution_count": 17,
   "id": "2e64d117",
   "metadata": {},
   "outputs": [],
   "source": [
    "class Employee(Person): # 부모 클래스 Person 으로부터 상속\n",
    "    def __init__(self, name, age, gender, salary, hire_date):\n",
    "        super().__init__(name, age,gender) # 부모 객체 사용 덮어쓰기 금지\n",
    "        self.salary=salary\n",
    "        self.hire_date=hire_date #속성값 추가\n",
    "        \n",
    "    def do_work(self) : #새로운 method 추가\n",
    "        print(\"열심히 일을 합니다.\")\n",
    "    \n",
    "    def about_me(self) : #부모 클래스 함수 재정의 \n",
    "        super().about_me() #부모 클래스 함수 재사용\n",
    "        print(\"제급여는\",self.salary, \"원 이구요, 제 입사일은 \",self.hire_date, \" 입니다.\")\n",
    "        "
   ]
  },
  {
   "cell_type": "code",
   "execution_count": 18,
   "id": "9d0beb8d",
   "metadata": {},
   "outputs": [
    {
     "name": "stdout",
     "output_type": "stream",
     "text": [
      " 저의 이름은 Daeho 입니다. 나이는 34입니다.\n",
      "제급여는 300000 원 이구요, 제 입사일은  2012/03/01  입니다.\n"
     ]
    }
   ],
   "source": [
    "myPerson=Person(\"John\",34,\"Male\")\n",
    "myEmployee=Employee(\"Daeho\",34,\"Male\",300000,\"2012/03/01\")\n",
    "#myPerson.about_me()\n",
    "myEmployee.about_me()"
   ]
  },
  {
   "cell_type": "markdown",
   "id": "53c7d722",
   "metadata": {},
   "source": [
    "# Polymorphism"
   ]
  },
  {
   "cell_type": "code",
   "execution_count": 20,
   "id": "cca4e125",
   "metadata": {},
   "outputs": [],
   "source": [
    "class Animal:\n",
    "    def __init__(self, name):\n",
    "        self.name =name\n",
    "    \n",
    "    def talk(self) : #Abstract method,\n",
    "        raise NotImplementedError(\"Subclass must implement abstract method\")\n",
    "        \n",
    "\n",
    "class Cat(Animal) :\n",
    "    def talk(self):\n",
    "        return \"Meow!\"\n",
    "\n",
    "class Dog(Animal) :\n",
    "    def talk(self):\n",
    "        return \" Woof, Woof!\"\n",
    "    "
   ]
  },
  {
   "cell_type": "code",
   "execution_count": 22,
   "id": "107264ee",
   "metadata": {},
   "outputs": [
    {
     "name": "stdout",
     "output_type": "stream",
     "text": [
      "Missy:Meow!\n",
      "Mr.Mistoffelees:Meow!\n",
      "Lassie: Woof, Woof!\n"
     ]
    }
   ],
   "source": [
    "animals = [Cat(\"Missy\"),\n",
    "          Cat(\"Mr.Mistoffelees\"),\n",
    "          Dog(\"Lassie\")]\n",
    "for animal in animals : \n",
    "    print(animal.name + \":\" + animal.talk())"
   ]
  },
  {
   "cell_type": "markdown",
   "id": "1df0956e",
   "metadata": {},
   "source": [
    "# Visibility"
   ]
  },
  {
   "cell_type": "code",
   "execution_count": 23,
   "id": "53c15eed",
   "metadata": {},
   "outputs": [],
   "source": [
    "class Product(object):\n",
    "    pass"
   ]
  },
  {
   "cell_type": "code",
   "execution_count": 29,
   "id": "98cf9400",
   "metadata": {},
   "outputs": [],
   "source": [
    "class Inventory():\n",
    "    def __init__(self) :\n",
    "        self.__items = [] # under bar 두개를 두면 capsulization이됨 \n",
    "    \n",
    "    def add_new_item(self,product) : \n",
    "        if type(product) == Product : \n",
    "            self.__items.append(product)\n",
    "            print(\"a new item is added\")\n",
    "        else :\n",
    "            raise ValueError(\"Invalid Item\")\n",
    "            \n",
    "    def get_number_of_item(self):\n",
    "        return len(self.__items)"
   ]
  },
  {
   "cell_type": "code",
   "execution_count": 31,
   "id": "383e8652",
   "metadata": {},
   "outputs": [
    {
     "name": "stdout",
     "output_type": "stream",
     "text": [
      "a new item is added\n",
      "a new item is added\n"
     ]
    }
   ],
   "source": [
    "my_inventory = Inventory()\n",
    "my_inventory.add_new_item(Product())\n",
    "my_inventory.add_new_item(Product())\n"
   ]
  },
  {
   "cell_type": "code",
   "execution_count": 32,
   "id": "1164bbde",
   "metadata": {},
   "outputs": [
    {
     "ename": "AttributeError",
     "evalue": "'Inventory' object has no attribute '__items'",
     "output_type": "error",
     "traceback": [
      "\u001b[1;31m---------------------------------------------------------------------------\u001b[0m",
      "\u001b[1;31mAttributeError\u001b[0m                            Traceback (most recent call last)",
      "\u001b[1;32m<ipython-input-32-d14883466fbe>\u001b[0m in \u001b[0;36m<module>\u001b[1;34m\u001b[0m\n\u001b[1;32m----> 1\u001b[1;33m \u001b[0mprint\u001b[0m\u001b[1;33m(\u001b[0m\u001b[0mmy_inventory\u001b[0m\u001b[1;33m.\u001b[0m\u001b[0m__items\u001b[0m\u001b[1;33m)\u001b[0m\u001b[1;33m\u001b[0m\u001b[1;33m\u001b[0m\u001b[0m\n\u001b[0m",
      "\u001b[1;31mAttributeError\u001b[0m: 'Inventory' object has no attribute '__items'"
     ]
    }
   ],
   "source": [
    "print(my_inventory.__items)"
   ]
  },
  {
   "cell_type": "markdown",
   "id": "f6ef162d",
   "metadata": {},
   "source": [
    "# Decorator"
   ]
  },
  {
   "cell_type": "code",
   "execution_count": 34,
   "id": "b5711ef6",
   "metadata": {},
   "outputs": [
    {
     "name": "stdout",
     "output_type": "stream",
     "text": [
      "******************************\n",
      "Hello\n",
      "******************************\n"
     ]
    }
   ],
   "source": [
    "def star(func) : \n",
    "    def inner(*args, **kwargs) :\n",
    "        print(\"*\" * 30)\n",
    "        func(*args, **kwargs)\n",
    "        print(\"*\" * 30)\n",
    "    return inner\n",
    "@star\n",
    "def printer(msg):\n",
    "    print(msg)\n",
    "    \n",
    "printer(\"Hello\")"
   ]
  },
  {
   "cell_type": "code",
   "execution_count": 39,
   "id": "f0c96dcd",
   "metadata": {},
   "outputs": [
    {
     "name": "stdout",
     "output_type": "stream",
     "text": [
      "TTTTTTTTTTTTTTTTTTTTTTTTTTTTTT\n",
      "Hello\n",
      "TTTTTTTTTTTTTTTTTTTTTTTTTTTTTT\n"
     ]
    }
   ],
   "source": [
    "def star(func) : \n",
    "    def inner(*args, **kwargs) :\n",
    "        print(args[1] * 30)\n",
    "        func(*args, **kwargs)\n",
    "        print(args[1] * 30)\n",
    "    return inner\n",
    "@star\n",
    "def printer(msg,tag):\n",
    "    print(msg)\n",
    "    \n",
    "printer(\"Hello\", \"T\")"
   ]
  },
  {
   "cell_type": "code",
   "execution_count": 40,
   "id": "df6d0e26",
   "metadata": {},
   "outputs": [
    {
     "name": "stdout",
     "output_type": "stream",
     "text": [
      "562949953421312\n"
     ]
    }
   ],
   "source": [
    "def generate_power(exponent):\n",
    "    def wrapper (f) :\n",
    "        def inner(*args) :\n",
    "            result = f(*args)\n",
    "            return exponent**result\n",
    "        return inner\n",
    "    return wrapper\n",
    "@generate_power(2)\n",
    "def raise_two(n) :\n",
    "    return n**2\n",
    "\n",
    "print(raise_two(7))"
   ]
  },
  {
   "cell_type": "code",
   "execution_count": null,
   "id": "b12f95d7",
   "metadata": {},
   "outputs": [],
   "source": []
  }
 ],
 "metadata": {
  "kernelspec": {
   "display_name": "Python 3",
   "language": "python",
   "name": "python3"
  },
  "language_info": {
   "codemirror_mode": {
    "name": "ipython",
    "version": 3
   },
   "file_extension": ".py",
   "mimetype": "text/x-python",
   "name": "python",
   "nbconvert_exporter": "python",
   "pygments_lexer": "ipython3",
   "version": "3.8.8"
  }
 },
 "nbformat": 4,
 "nbformat_minor": 5
}
